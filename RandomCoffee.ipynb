{
 "cells": [
  {
   "cell_type": "code",
   "execution_count": 307,
   "id": "151b62ed",
   "metadata": {
    "tags": []
   },
   "outputs": [],
   "source": [
    "import pandas as pd  # для чтения, обработки и выгрузки данных\n",
    "\n",
    "import random  # для выбора случайного кандидата\n",
    "import datetime as dt  # для вывода даты\n",
    "\n",
    "from collections import defaultdict  # для создания словаря с работниками"
   ]
  },
  {
   "cell_type": "code",
   "execution_count": 308,
   "id": "ab4fbefc",
   "metadata": {},
   "outputs": [],
   "source": [
    "df = pd.read_excel('RandomCoffee.xlsx', sheet_name=None, header=None, index_col=None) # чтение excel файла"
   ]
  },
  {
   "cell_type": "code",
   "execution_count": 309,
   "id": "057d63e1",
   "metadata": {},
   "outputs": [],
   "source": [
    "# формирование одной колонки и удаление пустых значений\n",
    "workers = pd.Series(df['Полный список участвующих'].values.ravel()).dropna().apply(lambda x: x.strip()) "
   ]
  },
  {
   "cell_type": "code",
   "execution_count": 310,
   "id": "72d2161f",
   "metadata": {
    "tags": []
   },
   "outputs": [],
   "source": [
    "workers = workers.tolist() # формирование списка из колонки\n",
    "\n",
    "n = len(workers)   # количество работников\n",
    "\n",
    "m = n//2  # количество возможных пар\n",
    "\n",
    "weeks = int((n*(n - 1) / 2)//(m + 2) - (n // 10 + 2))  # количество недель"
   ]
  },
  {
   "cell_type": "code",
   "execution_count": 311,
   "id": "e20d4a11",
   "metadata": {},
   "outputs": [],
   "source": [
    "# генерация пар\n",
    "def generate_pair(workers, all_people):\n",
    "    workers_set = set(workers)  # множество из работников\n",
    "    a = workers[0]  # первый работник\n",
    "    \n",
    "    candidates = workers_set.difference(all_people[a]).difference({a})  # кандидаты для первого работника\n",
    "    b = random.choice(list(candidates))  # случайный выбор пары     \n",
    "    \n",
    "    workers.remove(a)  # удаление работника из общего списка\n",
    "    workers.remove(b)  # удаление собеседника из общего списка\n",
    "    return [a, b], workers\n",
    "\n",
    "# генерация троек\n",
    "def generate_triple(workers, all_people):\n",
    "    workers_shuffled = random.sample(workers, len(workers))  # перемешивание работников\n",
    "    group, workers = generate_pair(workers_shuffled, all_people)  # вызов функции geberate_pair и запись ее результатов\n",
    "    a, b = group  #  распаковывание пары\n",
    "    \n",
    "    workers_set = set(workers)  # создание множества из работников\n",
    "    candidates_for_third = workers_set.difference(all_people[a]).difference(all_people[b]).difference({a, b})  # определение возможных кандидатов для тройки\n",
    "    c = random.choice(list(candidates_for_third))  # случайный выбор третьего сотрудника\n",
    "    \n",
    "    workers.remove(c)  # удаление сотрудника из общего списока \n",
    "    return [a, b, c], workers"
   ]
  },
  {
   "cell_type": "code",
   "execution_count": 312,
   "id": "eaab2ef9",
   "metadata": {},
   "outputs": [],
   "source": [
    "def generate_groups(workers_sorted, all_people):\n",
    "    workers = list(workers_sorted.keys())  # отсортированные работники\n",
    "    groups = list()\n",
    "    \n",
    "    # при нечетном количестве работников вызываем generate_triple\n",
    "    if len(workers) % 2 == 1: \n",
    "        group, workers = generate_triple(workers, all_people)\n",
    "        groups.append(group)\n",
    "    \n",
    "    while True:\n",
    "        # когда список работников опустеет, остановим цикл\n",
    "        if len(workers) == 0:\n",
    "            break\n",
    "        # при четном количестве работников вызываем generate_pair\n",
    "        group, workers = generate_pair(workers, all_people)\n",
    "        groups.append(group)\n",
    "    return groups"
   ]
  },
  {
   "cell_type": "code",
   "execution_count": 313,
   "id": "42cc5d51",
   "metadata": {},
   "outputs": [],
   "source": [
    "def get_all_people(other_sheets):\n",
    "    all_people = defaultdict(set)  # словарь, где в качестве ключей будут участники RC\n",
    "    for sheet in other_sheets:\n",
    "        for i, row in sheet[1].iterrows():\n",
    "            people = row.dropna().apply(lambda x: x.strip()).values \n",
    "            if len(people) == 2:\n",
    "                b, c = people\n",
    "                all_people[b].add(c)\n",
    "                all_people[c].add(b)\n",
    "            else:\n",
    "                b, c, d = people\n",
    "                all_people[b] = all_people[b].union({c, d})\n",
    "                all_people[c] = all_people[c].union({b, d})\n",
    "                all_people[d] = all_people[d].union({b, c})\n",
    "    for i in [x for x in workers if x not in all_people]:\n",
    "        all_people[i] = set()\n",
    "\n",
    "    return all_people"
   ]
  },
  {
   "cell_type": "code",
   "execution_count": 314,
   "id": "11f998a8",
   "metadata": {
    "tags": []
   },
   "outputs": [],
   "source": [
    "def get_final_groups(other_sheets):\n",
    "    all_people = get_all_people(other_sheets)\n",
    "\n",
    "    workers_sorted = {k: v for k, v in sorted(all_people.items(), key=lambda item: len(item[1]), reverse=True) if\n",
    "                      k in workers}\n",
    "    repeats = 0\n",
    "    while repeats < 100:\n",
    "        try:\n",
    "            groups = generate_groups(workers_sorted, all_people)\n",
    "            break\n",
    "        except:\n",
    "            repeats += 1\n",
    "    if repeats == 100:\n",
    "        return get_final_groups(other_sheets[1:])\n",
    "    else:\n",
    "        df = pd.DataFrame(groups)\n",
    "        return df"
   ]
  },
  {
   "cell_type": "code",
   "execution_count": 315,
   "id": "3a55e44e",
   "metadata": {
    "tags": []
   },
   "outputs": [],
   "source": [
    "if len(df) == 1:\n",
    "\n",
    "    def make_pairs(workers):\n",
    "        groups = []  # список случайных пар\n",
    "        workers = workers.copy()  # копирование списка работников\n",
    "        random.shuffle(workers)  # перемешевание списка работников\n",
    "\n",
    "        # формирование списка случайных пар\n",
    "        for i in range(0, len(workers), 2):\n",
    "            groups.append(workers[i:i + 2])\n",
    "\n",
    "            # отработка нечетного количества участников\n",
    "        if len(workers) % 2 == 1:\n",
    "            groups[-2].append(*groups[-1])\n",
    "            groups.pop()  # удаление последнего элемента\n",
    "        return groups\n",
    "\n",
    "    df = pd.DataFrame(make_pairs(workers))  # формирование Pandas таблицы\n",
    "\n",
    "elif 1 < len(df) <= weeks:\n",
    "    other_sheets = list(df.items())[1:]\n",
    "    df = get_final_groups(other_sheets)   # формирование Pandas таблицы\n",
    "\n",
    "elif len(df) - 1 == weeks:\n",
    "    other_sheets = list(df.items())[2:]\n",
    "    df = get_final_groups(other_sheets)\n",
    "\n",
    "else:\n",
    "    other_sheets = list(df.items())[-weeks:]\n",
    "    df = get_final_groups(other_sheets)\n",
    "\n"
   ]
  },
  {
   "cell_type": "code",
   "execution_count": 316,
   "id": "9108d8ff",
   "metadata": {},
   "outputs": [],
   "source": [
    "today_date = dt.date.today().strftime('%d.%m.%Y')  # текущая дата"
   ]
  },
  {
   "cell_type": "code",
   "execution_count": 317,
   "id": "11ab5ed7",
   "metadata": {},
   "outputs": [],
   "source": [
    "# запись в excel\n",
    "with pd.ExcelWriter('RandomCoffee.xlsx', mode='a') as writer:\n",
    "    df.to_excel(writer, today_date, index=False, header=False)"
   ]
  },
  {
   "cell_type": "code",
   "execution_count": null,
   "id": "e6fa7829",
   "metadata": {},
   "outputs": [],
   "source": []
  }
 ],
 "metadata": {
  "kernelspec": {
   "display_name": "Random Coffee",
   "language": "python",
   "name": "random-coffee"
  },
  "language_info": {
   "codemirror_mode": {
    "name": "ipython",
    "version": 3
   },
   "file_extension": ".py",
   "mimetype": "text/x-python",
   "name": "python",
   "nbconvert_exporter": "python",
   "pygments_lexer": "ipython3",
   "version": "3.8.10"
  }
 },
 "nbformat": 4,
 "nbformat_minor": 5
}